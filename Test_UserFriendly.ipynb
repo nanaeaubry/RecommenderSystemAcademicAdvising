{
 "cells": [
  {
   "cell_type": "markdown",
   "metadata": {},
   "source": [
    "# Recommender System for Coaching and Academic Advising\n",
    "#### Goal of the system is to consider user interests and feedback to recommend specific courses based on their level."
   ]
  },
  {
   "cell_type": "code",
   "execution_count": 3,
   "metadata": {},
   "outputs": [],
   "source": [
    "#AUTHOR: Aubry, Nanae & Ruchti, Kilian\n",
    "import re\n",
    "import pandas as pd\n",
    "from sklearn.metrics.pairwise import cosine_similarity\n",
    "import math\n",
    "from os import path\n",
    "import csv\n",
    "\n",
    "\n",
    "class color:\n",
    "   RED = '\\033[91m'\n",
    "   GREEN = '\\033[92m'\n",
    "   BLUE = '\\033[94m'\n",
    "   BOLD = '\\033[1m'\n",
    "   UNDERLINE = '\\033[4m'\n",
    "   END = '\\033[0m'"
   ]
  },
  {
   "cell_type": "markdown",
   "metadata": {},
   "source": [
    "#### Natural language processing functions"
   ]
  },
  {
   "cell_type": "code",
   "execution_count": 4,
   "metadata": {},
   "outputs": [],
   "source": [
    "# Function that returns all the words in a lowercase text.\n",
    "def getWordlist(text):\n",
    "    word_list = []\n",
    "    text = text.lower()\n",
    "    splitted = re.findall(r'\\b[a-z]+\\b', text)\n",
    "    for word in splitted:\n",
    "        word_list.append(sStemmer(word))\n",
    "        \n",
    "    return word_list\n",
    "\n",
    "# Function that returns the singular form of a word given in input.\n",
    "def sStemmer(wordS):\n",
    "#     Errors handeling.\n",
    "    if type(wordS) != str:\n",
    "        print(\"Error ! The element you gave is not a string.\\n\")\n",
    "        return ''\n",
    "    if re.search(r'^[a-z]{,4}$', wordS):\n",
    "        return wordS\n",
    "    if not re.search(r'^[a-z]{5,}$', wordS):\n",
    "        return ''  \n",
    "#     First test.\n",
    "    if not re.search(r'[ae]ies$', wordS) and re.search(r'ies$', wordS):\n",
    "#         If the word finishes by 'ies' without an 'a' or an 'e' before, we change the 'ies' into an 'y'.\n",
    "        word = re.sub(r'ies$', 'y', wordS)\n",
    "#     Second test\n",
    "    elif not re.search(r'[aeo]es$', wordS) and re.search(r'es$', wordS):\n",
    "#         If the word finishes by 'es' without an 'a', an 'e' or an 'o' before, we change the 'es' into an 'e'.\n",
    "        word = re.sub(r'es$', 'e', wordS)\n",
    "#     Third test\n",
    "    elif not re.search(r'[us]s$', wordS) and re.search(r's$', wordS):   \n",
    "#         If the word finishes by 's' without an 'u' or an 's' before, we delete the 's'.\n",
    "        word = re.sub(r's$', '', wordS)\n",
    "    else:\n",
    "#         When none of the cases worked, then it means that the word isn't a plural form so we return the word..\n",
    "        word = wordS\n",
    "    \n",
    "    return word"
   ]
  },
  {
   "cell_type": "markdown",
   "metadata": {},
   "source": [
    "#### Recommender System functions"
   ]
  },
  {
   "cell_type": "code",
   "execution_count": 6,
   "metadata": {},
   "outputs": [],
   "source": [
    "# Filter dataframe to find courses containing a keyword\n",
    "def subjects_filter(error, user_filter):\n",
    "    rc = all_courses.copy()\n",
    "    \n",
    "    filtered_resources = rc.loc[rc['specific_subject'].str.contains(user_filter)]\n",
    "\n",
    "# Error handling\n",
    "    if filtered_resources.empty:\n",
    "        error = True\n",
    "        print(color.BOLD + color.RED + \"\\nError: Sorry, the subject you requested is not in the list. Please try with another one.\\nMind the upper case letters.\" + color.END)\n",
    "                \n",
    "    return error, filtered_resources\n",
    "\n",
    "\n",
    "# Seperate the filtered data by level of difficulty\n",
    "def levels_filter(filtered_courses):\n",
    "    beginner = filtered_courses[filtered_courses[\"level\"].isin({'Beginner Level'})]\n",
    "    intermediate = filtered_courses[filtered_courses[\"level\"].isin({'Intermediate Level'})]\n",
    "    expert = filtered_courses[filtered_courses[\"level\"].isin({'Expert Level'})]\n",
    "   \n",
    "    list_levels = list()\n",
    "    list_levels.append(beginner)\n",
    "    list_levels.append(intermediate)\n",
    "    list_levels.append(expert)\n",
    "    \n",
    "    return list_levels\n",
    "\n",
    "\n",
    "# ------------------------------------------------------\n",
    "# Calculate Cosine Similarity Accross the Courses\n",
    "# We are calculating the similarity by considering their subjects\n",
    "def similarity_matrix(courses_attributes):\n",
    "    name_courses= list(courses_attributes.index)\n",
    "    sim = pd.DataFrame(cosine_similarity(courses_attributes), columns=name_courses, index=name_courses)\n",
    "    return sim\n",
    "\n",
    "\n",
    "\n",
    "# Calculating similarity by taking into account what user already rated\n",
    "def user_pref_sim_matrix(topic_attr, user_pref):\n",
    "    \n",
    "    #Sort by index preferences of users\n",
    "    #Create dataframe copy with only course id and ratings\n",
    "    user = user_preferences.sort_values(by = ['id'])\n",
    "\n",
    "    #Create new dataframe with the course_attributes and user_preferences appended\n",
    "    #Add 0 for indexes that have not been rated\n",
    "    df = pd.DataFrame()\n",
    "    df = df.append(topic_attributes)\n",
    "    df['Num_Attr'] = df.drop('id', axis=1).sum(axis=1)\n",
    "    df = df.merge(user, on=['id', 'course_title'], how='left').fillna(0)\n",
    "\n",
    "    user_rating = df[['rating']].copy() \n",
    "\n",
    "    #Get number columns to use in operations\n",
    "    column_values = len(df.columns)\n",
    "\n",
    "    #Create weighted matrix\n",
    "    weighted_matrix = pd.DataFrame(df.iloc[:,2:column_values - 3].values/pd.DataFrame([math.sqrt(i) for i in df.iloc[:,column_values - 2].values]).values)\n",
    "\n",
    "    #Calculate like scores for user\n",
    "    user_likes_score = pd.DataFrame((weighted_matrix.values*user_rating.values).sum(axis=0)).T\n",
    "\n",
    "    #Calculate predictions for user\n",
    "    pred_user=(df.iloc[:,2:column_values - 3].values*user_likes_score.values).sum(axis=1)\n",
    "    df[\"pred_user\"]=pred_user\n",
    "\n",
    "    #Display top 5 predictions\n",
    "    predictions = df.loc[df['rating'] == 0].nlargest(5, 'pred_user')[['course_title', 'pred_user']]\n",
    "    \n",
    "    return predictions\n",
    "\n",
    "\n",
    "\n",
    "# ------------------------------------------------------\n",
    "## Courses rating\n",
    "\n",
    "def update_rating(row):\n",
    "    df = pd.read_csv('data/users/' + user_name + \"_\" + topic +\".csv\") \n",
    "    df = df[~df['id'].isin([row[0]])]\n",
    "    updated_csv = df.to_csv('data/users/' + user_name + \"_\" + topic +\".csv\", index=False)\n",
    "    return updated_csv"
   ]
  },
  {
   "cell_type": "markdown",
   "metadata": {},
   "source": [
    "#### Asking user's input functions"
   ]
  },
  {
   "cell_type": "code",
   "execution_count": 8,
   "metadata": {},
   "outputs": [],
   "source": [
    "def AskForTopic():    \n",
    "    choice = input(color.BOLD + color.UNDERLINE + \"What do you want to learn about?\\n\" + color.END + \" \")\n",
    "    topic = \"\"\n",
    "    main_topic_choice = getWordlist(choice)\n",
    "    \n",
    "    return main_topic_choice    "
   ]
  },
  {
   "cell_type": "markdown",
   "metadata": {},
   "source": [
    "#### User enter name and topic choice"
   ]
  },
  {
   "cell_type": "code",
   "execution_count": 9,
   "metadata": {},
   "outputs": [
    {
     "name": "stdout",
     "output_type": "stream",
     "text": [
      "What is your name?\n",
      " Nanae\n",
      "\n",
      "--------------------\n",
      "Topics:\u001b[1m\u001b[92m\n",
      " Musical Instrument\n",
      " Business Finance\n",
      "\u001b[0m\n",
      "What do you want to learn about?\n",
      " Business Finance\n"
     ]
    }
   ],
   "source": [
    "user_name = input(color.BOLD + color.UNDERLINE + \"What is your name?\\n\" + color.END + \" \")\n",
    "\n",
    "print(\"\\n--------------------\\nTopics:\" + color.BOLD + color.GREEN +  \"\\n Musical Instrument\\n Business Finance\\n\" + color.END)\n",
    "main_topic_choice = AskForTopic()\n",
    "\n",
    "\n",
    "##### Read dataset of courses corresponding to the main topic user chose #####\n",
    "#Select csv to open based on user input\n",
    "\n",
    "topic_ok = False\n",
    "\n",
    "while topic_ok == False:\n",
    "    if ('music' in main_topic_choice) or ('musical' in main_topic_choice) or ('instrument' in main_topic_choice):\n",
    "        topic_ok = True\n",
    "        all_courses = pd.read_csv('data/music_courses.csv', header = 0, sep=',')\n",
    "        topic = \"music\"\n",
    "        \n",
    "    elif ('business' in main_topic_choice) or ('finance' in main_topic_choice):\n",
    "        topic_ok = True\n",
    "        all_courses = pd.read_csv('data/business_courses.csv', header = 0, sep=',')\n",
    "        topic = \"business\"\n",
    "    else:\n",
    "        print(color.BOLD + color.RED + \"\\nError: Sorry, the topic you requested is not in the list. Please try with another one.\\n\" + color.END)\n",
    "        main_topic_choice = AskForTopic()\n",
    "\n",
    "\n",
    "    \n",
    "all_courses.set_index([\"course_title\"], inplace=True)"
   ]
  },
  {
   "cell_type": "markdown",
   "metadata": {},
   "source": [
    "#### Filter through courses to only show rows that are associated with specific subject"
   ]
  },
  {
   "cell_type": "code",
   "execution_count": 10,
   "metadata": {},
   "outputs": [
    {
     "name": "stdout",
     "output_type": "stream",
     "text": [
      "Subjects:\u001b[1m\u001b[92m \n",
      " Investment \n",
      " Trading \n",
      " Cryptocurrency \n",
      " Stock Market \n",
      " Analysis \n",
      " Accounting \n",
      " etc...\u001b[0m\n",
      "\n",
      "What topics would you like to see?\n",
      " Cryptocurrency\n"
     ]
    }
   ],
   "source": [
    "error = False\n",
    "subject_ok = False\n",
    "\n",
    "\n",
    "if topic == 'music':\n",
    "        print(\"Subjects:\" + color.BOLD +  color.GREEN +  \" \\n Drums \\n Guitar \\n Piano \\n Chords \\n Harmonica \\n Songs \\n etc...\" + color.END)\n",
    "elif topic == 'business':\n",
    "        print(\"Subjects:\" + color.BOLD +  color.GREEN +  \" \\n Investment \\n Trading \\n Cryptocurrency \\n Stock Market \\n Analysis \\n Accounting \\n etc...\" + color.END)\n",
    "\n",
    "user_filter = input(color.BOLD + color.UNDERLINE + \"\\nWhat topics would you like to see?\\n\" + color.END + \" \")\n",
    "\n",
    "        \n",
    "while subject_ok == False:    \n",
    "    error, specific_subject = subjects_filter(error, user_filter)\n",
    "   \n",
    "\n",
    "    if error == False and not specific_subject.empty:\n",
    "        subject_ok = True\n",
    "    else:\n",
    "        user_filter = input(color.BOLD + color.UNDERLINE + \"\\nWhat topics would you like to see?\\n\" + color.END + \" \")\n",
    "\n",
    "    error = False\n",
    "    "
   ]
  },
  {
   "cell_type": "markdown",
   "metadata": {},
   "source": [
    "#### Read course_attributes dataset to create similarity matrix"
   ]
  },
  {
   "cell_type": "code",
   "execution_count": 11,
   "metadata": {},
   "outputs": [],
   "source": [
    "if topic == \"music\":\n",
    "    topic_attributes = pd.read_csv('data/music_attributes.csv', header=0, index_col=\"course_title\")\n",
    "if topic == \"business\":\n",
    "    topic_attributes = pd.read_csv('data/business_attributes.csv', header=0, index_col=\"course_title\")"
   ]
  },
  {
   "cell_type": "markdown",
   "metadata": {},
   "source": [
    "#### Show courses to user, ordered by level"
   ]
  },
  {
   "cell_type": "code",
   "execution_count": 12,
   "metadata": {},
   "outputs": [
    {
     "data": {
      "text/html": [
       "<div>\n",
       "<style scoped>\n",
       "    .dataframe tbody tr th:only-of-type {\n",
       "        vertical-align: middle;\n",
       "    }\n",
       "\n",
       "    .dataframe tbody tr th {\n",
       "        vertical-align: top;\n",
       "    }\n",
       "\n",
       "    .dataframe thead th {\n",
       "        text-align: right;\n",
       "    }\n",
       "</style>\n",
       "<table border=\"1\" class=\"dataframe\">\n",
       "  <thead>\n",
       "    <tr style=\"text-align: right;\">\n",
       "      <th></th>\n",
       "      <th>id</th>\n",
       "      <th>url</th>\n",
       "      <th>level</th>\n",
       "      <th>main_subject</th>\n",
       "      <th>specific_subject</th>\n",
       "    </tr>\n",
       "    <tr>\n",
       "      <th>course_title</th>\n",
       "      <th></th>\n",
       "      <th></th>\n",
       "      <th></th>\n",
       "      <th></th>\n",
       "      <th></th>\n",
       "    </tr>\n",
       "  </thead>\n",
       "  <tbody>\n",
       "    <tr>\n",
       "      <td>The Complete Ethereum Course: Get .01 Ether In Your Wallet</td>\n",
       "      <td>23</td>\n",
       "      <td>https://www.udemy.com/ethereum/</td>\n",
       "      <td>Beginner Level</td>\n",
       "      <td>Business Finance</td>\n",
       "      <td>Cryptocurrency</td>\n",
       "    </tr>\n",
       "    <tr>\n",
       "      <td>The Complete Bitcoin Course: Get .001 Bitcoin In Your Wallet</td>\n",
       "      <td>31</td>\n",
       "      <td>https://www.udemy.com/bitcoin-for-beginners/</td>\n",
       "      <td>Beginner Level</td>\n",
       "      <td>Business Finance</td>\n",
       "      <td>Cryptocurrency</td>\n",
       "    </tr>\n",
       "    <tr>\n",
       "      <td>The Complete Short Course on Ethereum</td>\n",
       "      <td>33</td>\n",
       "      <td>https://www.udemy.com/ethereum1/</td>\n",
       "      <td>Beginner Level</td>\n",
       "      <td>Business Finance</td>\n",
       "      <td>Cryptocurrency</td>\n",
       "    </tr>\n",
       "    <tr>\n",
       "      <td>Bitcoin Profits for Beginners</td>\n",
       "      <td>72</td>\n",
       "      <td>https://www.udemy.com/bitcoin-profits-for-begi...</td>\n",
       "      <td>Beginner Level</td>\n",
       "      <td>Business Finance</td>\n",
       "      <td>Cryptocurrency</td>\n",
       "    </tr>\n",
       "    <tr>\n",
       "      <td>Introduction to Cryptocurrencies and Blockchain</td>\n",
       "      <td>123</td>\n",
       "      <td>https://www.udemy.com/introduction-to-cryptocu...</td>\n",
       "      <td>Beginner Level</td>\n",
       "      <td>Business Finance</td>\n",
       "      <td>Cryptocurrency</td>\n",
       "    </tr>\n",
       "    <tr>\n",
       "      <td>Cryptocurrency (BTC &amp; ETH) Investment &amp; Trading Course 2017</td>\n",
       "      <td>164</td>\n",
       "      <td>https://www.udemy.com/cryptocurrency-btc-eth-i...</td>\n",
       "      <td>Beginner Level</td>\n",
       "      <td>Business Finance</td>\n",
       "      <td>Cryptocurrency</td>\n",
       "    </tr>\n",
       "    <tr>\n",
       "      <td>Bitcoin - A Comprehensive Guide</td>\n",
       "      <td>168</td>\n",
       "      <td>https://www.udemy.com/bitcoin-a-comprehensive-...</td>\n",
       "      <td>Beginner Level</td>\n",
       "      <td>Business Finance</td>\n",
       "      <td>Cryptocurrency</td>\n",
       "    </tr>\n",
       "    <tr>\n",
       "      <td>Bitcoin Trading 101</td>\n",
       "      <td>173</td>\n",
       "      <td>https://www.udemy.com/bitcoin-trading/</td>\n",
       "      <td>Beginner Level</td>\n",
       "      <td>Business Finance</td>\n",
       "      <td>Cryptocurrency</td>\n",
       "    </tr>\n",
       "    <tr>\n",
       "      <td>What is Bitcoin</td>\n",
       "      <td>220</td>\n",
       "      <td>https://www.udemy.com/what-is-bitcoin/</td>\n",
       "      <td>Beginner Level</td>\n",
       "      <td>Business Finance</td>\n",
       "      <td>Cryptocurrency</td>\n",
       "    </tr>\n",
       "    <tr>\n",
       "      <td>Bitcoin and Cryptocurrencies</td>\n",
       "      <td>321</td>\n",
       "      <td>https://www.edx.org/course/bitcoin-and-cryptoc...</td>\n",
       "      <td>Beginner Level</td>\n",
       "      <td>Business Finance</td>\n",
       "      <td>Cryptocurrency</td>\n",
       "    </tr>\n",
       "    <tr>\n",
       "      <td>Cryptocurrency Trading: Complete Guide To Trading Altcoins</td>\n",
       "      <td>44</td>\n",
       "      <td>https://www.udemy.com/cryptocurrency-trading/</td>\n",
       "      <td>Intermediate Level</td>\n",
       "      <td>Business Finance</td>\n",
       "      <td>Cryptocurrency</td>\n",
       "    </tr>\n",
       "    <tr>\n",
       "      <td>How To Earn Some Bitcoin Every Time You Use A Search Engine</td>\n",
       "      <td>316</td>\n",
       "      <td>https://www.udemy.com/getting-paid-to-search-t...</td>\n",
       "      <td>Intermediate Level</td>\n",
       "      <td>Business Finance</td>\n",
       "      <td>Cryptocurrency</td>\n",
       "    </tr>\n",
       "    <tr>\n",
       "      <td>CryptoArbitrager: Bitcoin Trading Robot (no mining)</td>\n",
       "      <td>130</td>\n",
       "      <td>https://www.udemy.com/cryptoarbitrager-trade-b...</td>\n",
       "      <td>Expert Level</td>\n",
       "      <td>Business Finance</td>\n",
       "      <td>Cryptocurrency</td>\n",
       "    </tr>\n",
       "    <tr>\n",
       "      <td>Bitcoin - Ethereum: Trading -Watch me manage my own account!</td>\n",
       "      <td>182</td>\n",
       "      <td>https://www.udemy.com/bitcoin-tips/</td>\n",
       "      <td>Expert Level</td>\n",
       "      <td>Business Finance</td>\n",
       "      <td>Cryptocurrency</td>\n",
       "    </tr>\n",
       "    <tr>\n",
       "      <td>Ethereum Course for Investors</td>\n",
       "      <td>184</td>\n",
       "      <td>https://www.udemy.com/how-to-purchase-store-an...</td>\n",
       "      <td>Expert Level</td>\n",
       "      <td>Business Finance</td>\n",
       "      <td>Cryptocurrency</td>\n",
       "    </tr>\n",
       "  </tbody>\n",
       "</table>\n",
       "</div>"
      ],
      "text/plain": [
       "                                                     id  \\\n",
       "course_title                                              \n",
       "The Complete Ethereum Course: Get .01 Ether In ...   23   \n",
       "The Complete Bitcoin Course: Get .001 Bitcoin I...   31   \n",
       "The Complete Short Course on Ethereum                33   \n",
       "Bitcoin Profits for Beginners                        72   \n",
       "Introduction to Cryptocurrencies and Blockchain     123   \n",
       "Cryptocurrency (BTC & ETH) Investment & Trading...  164   \n",
       "Bitcoin - A Comprehensive Guide                     168   \n",
       "Bitcoin Trading 101                                 173   \n",
       "What is Bitcoin                                     220   \n",
       "Bitcoin and Cryptocurrencies                        321   \n",
       "Cryptocurrency Trading: Complete Guide To Tradi...   44   \n",
       "How To Earn Some Bitcoin Every Time You Use A S...  316   \n",
       "CryptoArbitrager: Bitcoin Trading Robot (no min...  130   \n",
       "Bitcoin - Ethereum: Trading -Watch me manage my...  182   \n",
       "Ethereum Course for Investors                       184   \n",
       "\n",
       "                                                                                                  url  \\\n",
       "course_title                                                                                            \n",
       "The Complete Ethereum Course: Get .01 Ether In ...                    https://www.udemy.com/ethereum/   \n",
       "The Complete Bitcoin Course: Get .001 Bitcoin I...       https://www.udemy.com/bitcoin-for-beginners/   \n",
       "The Complete Short Course on Ethereum                                https://www.udemy.com/ethereum1/   \n",
       "Bitcoin Profits for Beginners                       https://www.udemy.com/bitcoin-profits-for-begi...   \n",
       "Introduction to Cryptocurrencies and Blockchain     https://www.udemy.com/introduction-to-cryptocu...   \n",
       "Cryptocurrency (BTC & ETH) Investment & Trading...  https://www.udemy.com/cryptocurrency-btc-eth-i...   \n",
       "Bitcoin - A Comprehensive Guide                     https://www.udemy.com/bitcoin-a-comprehensive-...   \n",
       "Bitcoin Trading 101                                            https://www.udemy.com/bitcoin-trading/   \n",
       "What is Bitcoin                                                https://www.udemy.com/what-is-bitcoin/   \n",
       "Bitcoin and Cryptocurrencies                        https://www.edx.org/course/bitcoin-and-cryptoc...   \n",
       "Cryptocurrency Trading: Complete Guide To Tradi...      https://www.udemy.com/cryptocurrency-trading/   \n",
       "How To Earn Some Bitcoin Every Time You Use A S...  https://www.udemy.com/getting-paid-to-search-t...   \n",
       "CryptoArbitrager: Bitcoin Trading Robot (no min...  https://www.udemy.com/cryptoarbitrager-trade-b...   \n",
       "Bitcoin - Ethereum: Trading -Watch me manage my...                https://www.udemy.com/bitcoin-tips/   \n",
       "Ethereum Course for Investors                       https://www.udemy.com/how-to-purchase-store-an...   \n",
       "\n",
       "                                                                 level  \\\n",
       "course_title                                                             \n",
       "The Complete Ethereum Course: Get .01 Ether In ...      Beginner Level   \n",
       "The Complete Bitcoin Course: Get .001 Bitcoin I...      Beginner Level   \n",
       "The Complete Short Course on Ethereum                   Beginner Level   \n",
       "Bitcoin Profits for Beginners                           Beginner Level   \n",
       "Introduction to Cryptocurrencies and Blockchain         Beginner Level   \n",
       "Cryptocurrency (BTC & ETH) Investment & Trading...      Beginner Level   \n",
       "Bitcoin - A Comprehensive Guide                         Beginner Level   \n",
       "Bitcoin Trading 101                                     Beginner Level   \n",
       "What is Bitcoin                                         Beginner Level   \n",
       "Bitcoin and Cryptocurrencies                            Beginner Level   \n",
       "Cryptocurrency Trading: Complete Guide To Tradi...  Intermediate Level   \n",
       "How To Earn Some Bitcoin Every Time You Use A S...  Intermediate Level   \n",
       "CryptoArbitrager: Bitcoin Trading Robot (no min...        Expert Level   \n",
       "Bitcoin - Ethereum: Trading -Watch me manage my...        Expert Level   \n",
       "Ethereum Course for Investors                             Expert Level   \n",
       "\n",
       "                                                        main_subject  \\\n",
       "course_title                                                           \n",
       "The Complete Ethereum Course: Get .01 Ether In ...  Business Finance   \n",
       "The Complete Bitcoin Course: Get .001 Bitcoin I...  Business Finance   \n",
       "The Complete Short Course on Ethereum               Business Finance   \n",
       "Bitcoin Profits for Beginners                       Business Finance   \n",
       "Introduction to Cryptocurrencies and Blockchain     Business Finance   \n",
       "Cryptocurrency (BTC & ETH) Investment & Trading...  Business Finance   \n",
       "Bitcoin - A Comprehensive Guide                     Business Finance   \n",
       "Bitcoin Trading 101                                 Business Finance   \n",
       "What is Bitcoin                                     Business Finance   \n",
       "Bitcoin and Cryptocurrencies                        Business Finance   \n",
       "Cryptocurrency Trading: Complete Guide To Tradi...  Business Finance   \n",
       "How To Earn Some Bitcoin Every Time You Use A S...  Business Finance   \n",
       "CryptoArbitrager: Bitcoin Trading Robot (no min...  Business Finance   \n",
       "Bitcoin - Ethereum: Trading -Watch me manage my...  Business Finance   \n",
       "Ethereum Course for Investors                       Business Finance   \n",
       "\n",
       "                                                   specific_subject  \n",
       "course_title                                                         \n",
       "The Complete Ethereum Course: Get .01 Ether In ...   Cryptocurrency  \n",
       "The Complete Bitcoin Course: Get .001 Bitcoin I...   Cryptocurrency  \n",
       "The Complete Short Course on Ethereum                Cryptocurrency  \n",
       "Bitcoin Profits for Beginners                        Cryptocurrency  \n",
       "Introduction to Cryptocurrencies and Blockchain      Cryptocurrency  \n",
       "Cryptocurrency (BTC & ETH) Investment & Trading...   Cryptocurrency  \n",
       "Bitcoin - A Comprehensive Guide                      Cryptocurrency  \n",
       "Bitcoin Trading 101                                  Cryptocurrency  \n",
       "What is Bitcoin                                      Cryptocurrency  \n",
       "Bitcoin and Cryptocurrencies                         Cryptocurrency  \n",
       "Cryptocurrency Trading: Complete Guide To Tradi...   Cryptocurrency  \n",
       "How To Earn Some Bitcoin Every Time You Use A S...   Cryptocurrency  \n",
       "CryptoArbitrager: Bitcoin Trading Robot (no min...   Cryptocurrency  \n",
       "Bitcoin - Ethereum: Trading -Watch me manage my...   Cryptocurrency  \n",
       "Ethereum Course for Investors                        Cryptocurrency  "
      ]
     },
     "execution_count": 12,
     "metadata": {},
     "output_type": "execute_result"
    }
   ],
   "source": [
    "list_courses = levels_filter(specific_subject)\n",
    "merged_list = pd.concat(list_courses)\n",
    "merged_list"
   ]
  },
  {
   "cell_type": "code",
   "execution_count": 13,
   "metadata": {},
   "outputs": [
    {
     "name": "stdout",
     "output_type": "stream",
     "text": [
      "What course do you want to watch?\n",
      " What is Bitcoin\n",
      "\n",
      "Here is the link to the course:\n",
      " \u001b[1m\u001b[94m\u001b[4mhttps://www.udemy.com/what-is-bitcoin/\u001b[0m\n"
     ]
    }
   ],
   "source": [
    "# User chooses a course and program displays the link\n",
    "course = input(color.BOLD + color.UNDERLINE + \"What course do you want to watch?\\n\" + color.END + \" \")\n",
    "\n",
    "extract_url = all_courses.loc[[course], [\"url\"]].values[0]\n",
    "course_url = extract_url[0]\n",
    "print(\"\\nHere is the link to the course:\\n \" + color.BOLD + color.BLUE + color.UNDERLINE + course_url + color.END)"
   ]
  },
  {
   "cell_type": "markdown",
   "metadata": {},
   "source": [
    "## Ask if user liked course to store rating"
   ]
  },
  {
   "cell_type": "code",
   "execution_count": 20,
   "metadata": {},
   "outputs": [
    {
     "name": "stdout",
     "output_type": "stream",
     "text": [
      "Did you like the video? (yes/no): no\n"
     ]
    }
   ],
   "source": [
    "user_rating = input(color.BOLD + color.UNDERLINE + \"Did you like the video? (yes/no):\" + color.END + \" \")\n",
    "\n",
    "if user_rating == \"yes\":\n",
    "    like = 1\n",
    "else:\n",
    "    like = -1"
   ]
  },
  {
   "cell_type": "markdown",
   "metadata": {},
   "source": [
    "#### Add course and rating to user's file. If new user, create new csv\n",
    "##### Find course id to store"
   ]
  },
  {
   "cell_type": "code",
   "execution_count": 21,
   "metadata": {},
   "outputs": [],
   "source": [
    "extract_id = all_courses.loc[[course], [\"id\"]].values[0]\n",
    "course_id = extract_id[0]"
   ]
  },
  {
   "cell_type": "code",
   "execution_count": 22,
   "metadata": {},
   "outputs": [
    {
     "name": "stdout",
     "output_type": "stream",
     "text": [
      "You already rated this course, we'll update your rating!\n"
     ]
    }
   ],
   "source": [
    "file_name = user_name + \"_\" + topic +\".csv\"\n",
    "\n",
    "if path.exists('data/users/' + file_name) == True:\n",
    "    with open('data/users/' + file_name, 'r') as file:\n",
    "        csv_reader = csv.reader(file)\n",
    "        rated = False\n",
    "        for row in csv_reader:\n",
    "            if course in row:\n",
    "                print(\"You already rated this course, we'll update your rating!\")\n",
    "                updated_csv = update_rating(row)\n",
    "                break\n",
    "    \n",
    "    with open('data/users/' + file_name, 'a') as filea:\n",
    "        writer = csv.writer(filea)\n",
    "        writer.writerow([course_id, course, like])\n",
    "            \n",
    "else:\n",
    "    with open('data/users/' + file_name, 'w', newline='') as file:\n",
    "        writer = csv.writer(file)\n",
    "        writer.writerow([\"id\",\"course_title\", \"rating\"])\n",
    "        writer.writerow([course_id, course, like])\n",
    "file.close()"
   ]
  },
  {
   "cell_type": "markdown",
   "metadata": {},
   "source": [
    "##### Open file with user ratings"
   ]
  },
  {
   "cell_type": "code",
   "execution_count": 23,
   "metadata": {},
   "outputs": [],
   "source": [
    "#Open csv of user preferences if user exists for topic    \n",
    "file = 'data/users/' + user_name + \"_\" + topic +\".csv\"\n",
    "if path.exists(file) == True:\n",
    "    user_preferences = pd.read_csv(file)\n",
    "else:\n",
    "    user_preferences = pd.DataFrame()"
   ]
  },
  {
   "cell_type": "markdown",
   "metadata": {},
   "source": [
    "#### Recommend next courses based on user ratings"
   ]
  },
  {
   "cell_type": "code",
   "execution_count": 24,
   "metadata": {},
   "outputs": [
    {
     "name": "stdout",
     "output_type": "stream",
     "text": [
      "\u001b[1m\n",
      "Courses recommended based on what you've rated so far: \n",
      "\u001b[0m\n"
     ]
    },
    {
     "data": {
      "text/html": [
       "<div>\n",
       "<style scoped>\n",
       "    .dataframe tbody tr th:only-of-type {\n",
       "        vertical-align: middle;\n",
       "    }\n",
       "\n",
       "    .dataframe tbody tr th {\n",
       "        vertical-align: top;\n",
       "    }\n",
       "\n",
       "    .dataframe thead th {\n",
       "        text-align: right;\n",
       "    }\n",
       "</style>\n",
       "<table border=\"1\" class=\"dataframe\">\n",
       "  <thead>\n",
       "    <tr style=\"text-align: right;\">\n",
       "      <th></th>\n",
       "      <th>course_title</th>\n",
       "      <th>pred_user</th>\n",
       "    </tr>\n",
       "  </thead>\n",
       "  <tbody>\n",
       "    <tr>\n",
       "      <td>279</td>\n",
       "      <td>How to Trade Forex like a Hedge Fund: Long FX ...</td>\n",
       "      <td>7.019745</td>\n",
       "    </tr>\n",
       "    <tr>\n",
       "      <td>166</td>\n",
       "      <td>Best Practices in Corporate Budgeting</td>\n",
       "      <td>6.681541</td>\n",
       "    </tr>\n",
       "    <tr>\n",
       "      <td>219</td>\n",
       "      <td>Intermediate Accounting 1: Easy. Fast. Simple!</td>\n",
       "      <td>6.595754</td>\n",
       "    </tr>\n",
       "    <tr>\n",
       "      <td>99</td>\n",
       "      <td>Forex Trading with Fixed Risk through Options ...</td>\n",
       "      <td>6.572151</td>\n",
       "    </tr>\n",
       "    <tr>\n",
       "      <td>223</td>\n",
       "      <td>Advance Technical Analysis</td>\n",
       "      <td>6.456796</td>\n",
       "    </tr>\n",
       "  </tbody>\n",
       "</table>\n",
       "</div>"
      ],
      "text/plain": [
       "                                          course_title  pred_user\n",
       "279  How to Trade Forex like a Hedge Fund: Long FX ...   7.019745\n",
       "166              Best Practices in Corporate Budgeting   6.681541\n",
       "219     Intermediate Accounting 1: Easy. Fast. Simple!   6.595754\n",
       "99   Forex Trading with Fixed Risk through Options ...   6.572151\n",
       "223                         Advance Technical Analysis   6.456796"
      ]
     },
     "execution_count": 24,
     "metadata": {},
     "output_type": "execute_result"
    }
   ],
   "source": [
    "print(color.BOLD + \"\\nCourses recommended based on what you've rated so far: \\n\" + color.END)\n",
    "top_pred = user_pref_sim_matrix(topic_attributes, user_preferences)\n",
    "top_pred"
   ]
  },
  {
   "cell_type": "markdown",
   "metadata": {},
   "source": [
    "#### Show most similar courses to course user chose"
   ]
  },
  {
   "cell_type": "code",
   "execution_count": 19,
   "metadata": {},
   "outputs": [
    {
     "name": "stdout",
     "output_type": "stream",
     "text": [
      "\u001b[1m\n",
      "Courses recommended based course you just took: \n",
      "\u001b[0m\n"
     ]
    },
    {
     "data": {
      "text/html": [
       "<div>\n",
       "<style scoped>\n",
       "    .dataframe tbody tr th:only-of-type {\n",
       "        vertical-align: middle;\n",
       "    }\n",
       "\n",
       "    .dataframe tbody tr th {\n",
       "        vertical-align: top;\n",
       "    }\n",
       "\n",
       "    .dataframe thead th {\n",
       "        text-align: right;\n",
       "    }\n",
       "</style>\n",
       "<table border=\"1\" class=\"dataframe\">\n",
       "  <thead>\n",
       "    <tr style=\"text-align: right;\">\n",
       "      <th></th>\n",
       "      <th>What is Bitcoin</th>\n",
       "    </tr>\n",
       "  </thead>\n",
       "  <tbody>\n",
       "    <tr>\n",
       "      <td>Introduction to Day Trading</td>\n",
       "      <td>0.999984</td>\n",
       "    </tr>\n",
       "    <tr>\n",
       "      <td>Bitcoin and Cryptocurrencies</td>\n",
       "      <td>0.999983</td>\n",
       "    </tr>\n",
       "    <tr>\n",
       "      <td>Day Trading - Learn to Day Trade / Swing Trade In One Hour.</td>\n",
       "      <td>0.999983</td>\n",
       "    </tr>\n",
       "    <tr>\n",
       "      <td>Bitcoin Trading 101</td>\n",
       "      <td>0.999982</td>\n",
       "    </tr>\n",
       "    <tr>\n",
       "      <td>Trading Basics in 30 minutes</td>\n",
       "      <td>0.999981</td>\n",
       "    </tr>\n",
       "  </tbody>\n",
       "</table>\n",
       "</div>"
      ],
      "text/plain": [
       "                                                    What is Bitcoin\n",
       "Introduction to Day Trading                                0.999984\n",
       "Bitcoin and Cryptocurrencies                               0.999983\n",
       "Day Trading - Learn to Day Trade / Swing Trade ...         0.999983\n",
       "Bitcoin Trading 101                                        0.999982\n",
       "Trading Basics in 30 minutes                               0.999981"
      ]
     },
     "execution_count": 19,
     "metadata": {},
     "output_type": "execute_result"
    }
   ],
   "source": [
    "print(color.BOLD + \"\\nCourses recommended based course you just took: \\n\" + color.END)\n",
    "\n",
    "similarity = similarity_matrix(topic_attributes)\n",
    "corr_top5=pd.DataFrame(similarity.loc[course].sort_values(ascending=False)[1:6])\n",
    "corr_top5"
   ]
  },
  {
   "cell_type": "code",
   "execution_count": null,
   "metadata": {},
   "outputs": [],
   "source": []
  }
 ],
 "metadata": {
  "kernelspec": {
   "display_name": "Python 3",
   "language": "python",
   "name": "python3"
  },
  "language_info": {
   "codemirror_mode": {
    "name": "ipython",
    "version": 3
   },
   "file_extension": ".py",
   "mimetype": "text/x-python",
   "name": "python",
   "nbconvert_exporter": "python",
   "pygments_lexer": "ipython3",
   "version": "3.7.4"
  }
 },
 "nbformat": 4,
 "nbformat_minor": 4
}
